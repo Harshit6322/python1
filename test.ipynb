{
  "cells": [
    {
      "cell_type": "markdown",
      "metadata": {
        "id": "CrAyrDELKaQK"
      },
      "source": [
        "__Python Basic__\n"
      ]
    },
    {
      "cell_type": "markdown",
      "metadata": {
        "id": "iYSOYTZwKaQL"
      },
      "source": [
        "__Data Type__"
      ]
    },
    {
      "cell_type": "code",
      "execution_count": null,
      "metadata": {
        "id": "MNbpqva8KaQM",
        "outputId": "33756ad0-74b3-4592-ac2b-22a56993ca94"
      },
      "outputs": [
        {
          "data": {
            "text/plain": [
              "str"
            ]
          },
          "execution_count": 8,
          "metadata": {},
          "output_type": "execute_result"
        }
      ],
      "source": [
        "x=\"hello\"\n",
        "type(x)"
      ]
    },
    {
      "cell_type": "code",
      "execution_count": null,
      "metadata": {
        "id": "2SDJfjWGKaQO",
        "outputId": "ef9d2602-5c71-42b6-e8ea-24eef60dfbab"
      },
      "outputs": [
        {
          "name": "stdout",
          "output_type": "stream",
          "text": [
            "<class 'int'>\n"
          ]
        },
        {
          "data": {
            "text/plain": [
              "20"
            ]
          },
          "execution_count": 26,
          "metadata": {},
          "output_type": "execute_result"
        }
      ],
      "source": [
        "x=20\n",
        "print(type(x))\n",
        "x"
      ]
    },
    {
      "cell_type": "code",
      "execution_count": null,
      "metadata": {
        "id": "3cHyVw3sKaQO",
        "outputId": "34f31fec-7301-47b1-85d8-e03cc8128fc8"
      },
      "outputs": [
        {
          "name": "stdout",
          "output_type": "stream",
          "text": [
            "<class 'float'>\n"
          ]
        },
        {
          "data": {
            "text/plain": [
              "20.3"
            ]
          },
          "execution_count": 27,
          "metadata": {},
          "output_type": "execute_result"
        }
      ],
      "source": [
        "x=20.3\n",
        "print(type(x))\n",
        "x"
      ]
    },
    {
      "cell_type": "code",
      "execution_count": null,
      "metadata": {
        "id": "DY2SFJYpKaQP",
        "outputId": "a9055a81-cd93-4772-ce0b-7a258dcc40e6"
      },
      "outputs": [
        {
          "name": "stdout",
          "output_type": "stream",
          "text": [
            "<class 'complex'>\n"
          ]
        },
        {
          "data": {
            "text/plain": [
              "23j"
            ]
          },
          "execution_count": 28,
          "metadata": {},
          "output_type": "execute_result"
        }
      ],
      "source": [
        "x=23j\n",
        "print(type(x))\n",
        "x"
      ]
    },
    {
      "cell_type": "code",
      "execution_count": null,
      "metadata": {
        "id": "-uwk1qWFKaQQ",
        "outputId": "8b9a9a7d-fc52-4e06-e215-a244d50371d1"
      },
      "outputs": [
        {
          "name": "stdout",
          "output_type": "stream",
          "text": [
            "<class 'list'>\n"
          ]
        },
        {
          "data": {
            "text/plain": [
              "[1, 2, 3, 57, 4567, 3456]"
            ]
          },
          "execution_count": 29,
          "metadata": {},
          "output_type": "execute_result"
        }
      ],
      "source": [
        "x=[1,2,3,57,4567,3456]\n",
        "print(type(x))\n",
        "x"
      ]
    },
    {
      "cell_type": "code",
      "execution_count": null,
      "metadata": {
        "id": "bL7znlAnKaQQ",
        "outputId": "5ff613c3-d1c8-4a3c-a124-7427121d3135"
      },
      "outputs": [
        {
          "name": "stdout",
          "output_type": "stream",
          "text": [
            "<class 'tuple'>\n",
            "<class 'tuple'>\n"
          ]
        },
        {
          "data": {
            "text/plain": [
              "(1, 23, 45)"
            ]
          },
          "execution_count": 21,
          "metadata": {},
          "output_type": "execute_result"
        }
      ],
      "source": [
        "x=(1,2,3,4)\n",
        "print(type(x))\n",
        "x=1,23,45\n",
        "print(type(x))\n",
        "x"
      ]
    },
    {
      "cell_type": "code",
      "execution_count": null,
      "metadata": {
        "id": "W7Ci2tAEKaQR",
        "outputId": "949758fc-d861-4740-b5eb-7b096eeb73d5"
      },
      "outputs": [
        {
          "name": "stdout",
          "output_type": "stream",
          "text": [
            "<class 'range'>\n"
          ]
        },
        {
          "data": {
            "text/plain": [
              "range(0, 3)"
            ]
          },
          "execution_count": 18,
          "metadata": {},
          "output_type": "execute_result"
        }
      ],
      "source": [
        "x=range(3)\n",
        "print(type(x))\n",
        "x"
      ]
    },
    {
      "cell_type": "code",
      "execution_count": null,
      "metadata": {
        "id": "jLZmgLooKaQS",
        "outputId": "ae6b7abb-a6f5-4edb-9dd8-667533e5445e"
      },
      "outputs": [
        {
          "name": "stdout",
          "output_type": "stream",
          "text": [
            "<class 'set'>\n"
          ]
        },
        {
          "data": {
            "text/plain": [
              "{'apple', 'banana', 'kiwi', 'peach', 'plum'}"
            ]
          },
          "execution_count": 20,
          "metadata": {},
          "output_type": "execute_result"
        }
      ],
      "source": [
        "x = {'banana','apple','peach','plum','kiwi'}\n",
        "print(type(x))\n",
        "x"
      ]
    },
    {
      "cell_type": "code",
      "execution_count": null,
      "metadata": {
        "id": "CzOtVM04KaQS",
        "outputId": "9fb93b58-ca1e-4ba4-98d5-9e44441f3738"
      },
      "outputs": [
        {
          "name": "stdout",
          "output_type": "stream",
          "text": [
            "<class 'dict'>\n"
          ]
        },
        {
          "data": {
            "text/plain": [
              "{'apple': 1, 'banana': 2, 'plum': 3}"
            ]
          },
          "execution_count": 30,
          "metadata": {},
          "output_type": "execute_result"
        }
      ],
      "source": [
        "x={\"apple\":1 ,\"banana\":2 ,\"plum\":3}\n",
        "print(type(x))\n",
        "x"
      ]
    },
    {
      "cell_type": "code",
      "execution_count": null,
      "metadata": {
        "id": "Ugzt5W8dKaQS",
        "outputId": "e4253ae5-b2f9-478f-a995-6183829bd3e0"
      },
      "outputs": [
        {
          "name": "stdout",
          "output_type": "stream",
          "text": [
            "<class 'bool'>\n"
          ]
        },
        {
          "data": {
            "text/plain": [
              "True"
            ]
          },
          "execution_count": 31,
          "metadata": {},
          "output_type": "execute_result"
        }
      ],
      "source": [
        "x= True\n",
        "print(type(x))\n",
        "x"
      ]
    },
    {
      "cell_type": "code",
      "execution_count": null,
      "metadata": {
        "id": "zBQ24W2gKaQT",
        "outputId": "acc786a0-e370-4249-f363-62397d655935"
      },
      "outputs": [
        {
          "name": "stdout",
          "output_type": "stream",
          "text": [
            "<class 'bytes'>\n"
          ]
        },
        {
          "data": {
            "text/plain": [
              "b'hello'"
            ]
          },
          "execution_count": 32,
          "metadata": {},
          "output_type": "execute_result"
        }
      ],
      "source": [
        "x = b\"hello\"\n",
        "print(type(x))\n",
        "x"
      ]
    },
    {
      "cell_type": "markdown",
      "metadata": {
        "id": "nf06dfomKaQT"
      },
      "source": [
        "__Python Number__"
      ]
    },
    {
      "cell_type": "code",
      "execution_count": null,
      "metadata": {
        "id": "KprG0IoLKaQT",
        "outputId": "83f636f8-ad41-4da9-c9b0-86a11cc39a85",
        "colab": {
          "base_uri": "https://localhost:8080/"
        }
      },
      "outputs": [
        {
          "output_type": "stream",
          "name": "stdout",
          "text": [
            "<class 'int'>\n",
            "<class 'float'>\n",
            "<class 'complex'>\n"
          ]
        }
      ],
      "source": [
        "x = 12\n",
        "y = 23.4657\n",
        "z = 34+32j\n",
        "\n",
        "print(type(x))\n",
        "print(type(y))\n",
        "print(type(z))"
      ]
    },
    {
      "cell_type": "code",
      "execution_count": null,
      "metadata": {
        "id": "9bx0mGfhKaQU",
        "outputId": "3180d06a-0f04-44a1-b549-a6e324110a76"
      },
      "outputs": [
        {
          "name": "stdout",
          "output_type": "stream",
          "text": [
            "<class 'int'>\n",
            "<class 'int'>\n",
            "<class 'int'>\n"
          ]
        }
      ],
      "source": [
        "x=2\n",
        "y=12345678\n",
        "z=-3456787653\n",
        "print(type(x))\n",
        "print(type(y))\n",
        "print(type(z))\n"
      ]
    },
    {
      "cell_type": "code",
      "execution_count": null,
      "metadata": {
        "id": "Noms3JCNKaQU",
        "outputId": "e6e96308-3379-4e6f-a574-345dbfbc36ed"
      },
      "outputs": [
        {
          "name": "stdout",
          "output_type": "stream",
          "text": [
            "<class 'float'>\n",
            "<class 'float'>\n",
            "<class 'float'>\n"
          ]
        }
      ],
      "source": [
        "x=.2\n",
        "y=1234.5678\n",
        "z=-34.56787653\n",
        "print(type(x))\n",
        "print(type(y))\n",
        "print(type(z))"
      ]
    },
    {
      "cell_type": "code",
      "execution_count": null,
      "metadata": {
        "id": "APVe3kFmKaQU",
        "outputId": "574bc71c-03c6-4c27-c883-2c669fe363e1"
      },
      "outputs": [
        {
          "name": "stdout",
          "output_type": "stream",
          "text": [
            "<class 'float'>\n",
            "<class 'float'>\n",
            "<class 'float'>\n"
          ]
        }
      ],
      "source": [
        "x=25e3\n",
        "y=12345e678\n",
        "z=-8775e100\n",
        "print(type(x))\n",
        "print(type(y))\n",
        "print(type(z))"
      ]
    },
    {
      "cell_type": "code",
      "execution_count": null,
      "metadata": {
        "id": "ar7I672tKaQU",
        "outputId": "d4f2eee0-6096-4e60-a773-1f4dd5d82e97"
      },
      "outputs": [
        {
          "name": "stdout",
          "output_type": "stream",
          "text": [
            "<class 'complex'>\n",
            "<class 'complex'>\n",
            "<class 'complex'>\n"
          ]
        }
      ],
      "source": [
        "x=2.j\n",
        "y=12345678+3j\n",
        "z=-345j\n",
        "print(type(x))\n",
        "print(type(y))\n",
        "print(type(z))"
      ]
    },
    {
      "cell_type": "markdown",
      "metadata": {
        "id": "mf3HHly2KaQV"
      },
      "source": [
        "__Python casting__"
      ]
    },
    {
      "cell_type": "code",
      "execution_count": null,
      "metadata": {
        "id": "19Y4UuwMKaQV",
        "outputId": "35817de9-4cac-4c6e-d492-084d2afc8dd6"
      },
      "outputs": [
        {
          "name": "stdout",
          "output_type": "stream",
          "text": [
            "<class 'int'>\n",
            "<class 'int'>\n",
            "<class 'int'>\n"
          ]
        }
      ],
      "source": [
        "x= int(1)\n",
        "y=int(23.46)\n",
        "z=int(\"3\")\n",
        "\n",
        "print(type(x))\n",
        "print(type(y))\n",
        "print(type(z))"
      ]
    },
    {
      "cell_type": "code",
      "execution_count": null,
      "metadata": {
        "id": "0_bk8iLgKaQV",
        "outputId": "0662ba41-161d-4e14-ab64-c630fdcc7f50"
      },
      "outputs": [
        {
          "name": "stdout",
          "output_type": "stream",
          "text": [
            "<class 'float'>\n",
            "<class 'float'>\n",
            "<class 'float'>\n"
          ]
        }
      ],
      "source": [
        "x=float(34)\n",
        "y=float(1234.678)\n",
        "z=float(\"12345\")\n",
        "print(type(x))\n",
        "print(type(y))\n",
        "print(type(z))"
      ]
    },
    {
      "cell_type": "markdown",
      "metadata": {
        "id": "5FzZ56v1KaQV"
      },
      "source": [
        "__Python string__"
      ]
    },
    {
      "cell_type": "code",
      "execution_count": null,
      "metadata": {
        "id": "2v5DxENoKaQV",
        "outputId": "33136a67-b9ad-4c37-de28-f35efd8c289c"
      },
      "outputs": [
        {
          "name": "stdout",
          "output_type": "stream",
          "text": [
            "harsit gangwar\n",
            "harshit\n"
          ]
        }
      ],
      "source": [
        "print(\"harsit gangwar\")\n",
        "print('harshit')"
      ]
    },
    {
      "cell_type": "code",
      "execution_count": null,
      "metadata": {
        "id": "Czj1Nt0CKaQW",
        "outputId": "5fbc924e-b05c-4648-861a-c9b82e394e47"
      },
      "outputs": [
        {
          "name": "stdout",
          "output_type": "stream",
          "text": [
            "my name is harshit\n",
            "my name is 'harshit'\n",
            "my name is \"harshit\"\n"
          ]
        }
      ],
      "source": [
        "print(\"my name is harshit\")\n",
        "print(\"my name is 'harshit'\")\n",
        "print('my name is \"harshit\"')"
      ]
    },
    {
      "cell_type": "code",
      "execution_count": null,
      "metadata": {
        "id": "wh4Gppu_KaQW",
        "outputId": "0dccf311-df41-4b9f-8bd9-978910b981e8"
      },
      "outputs": [
        {
          "name": "stdout",
          "output_type": "stream",
          "text": [
            " hii my name is harshit,\n",
            " now i learn python basic,\n",
            " now i try to write a string program.\n",
            " \n"
          ]
        }
      ],
      "source": [
        "a=\"\"\" hii my name is harshit,\n",
        " now i learn python basic,\n",
        " now i try to write a string program.\n",
        " \"\"\"\n",
        "print(a)"
      ]
    },
    {
      "cell_type": "markdown",
      "metadata": {
        "id": "H3IUWFMIKaQW"
      },
      "source": [
        "__string array__"
      ]
    },
    {
      "cell_type": "code",
      "execution_count": null,
      "metadata": {
        "id": "94GgHgmIKaQW",
        "outputId": "778fe5e1-4833-4287-f21b-9efa59ef8bda"
      },
      "outputs": [
        {
          "name": "stdout",
          "output_type": "stream",
          "text": [
            "o\n",
            "hell\n",
            "o world\n",
            "ell\n",
            "hello worl\n",
            "o\n"
          ]
        }
      ],
      "source": [
        "a=\"hello world\"\n",
        "print(a[4])\n",
        "print(a[:4])\n",
        "print(a[4:])\n",
        "print(a[1:4])\n",
        "print(a[:-1])\n",
        "print(a[-4])\n"
      ]
    },
    {
      "cell_type": "code",
      "execution_count": null,
      "metadata": {
        "id": "2IFhCCGnKaQW",
        "outputId": "c94c03a7-0c22-4f78-d7cf-9c4096b005d1"
      },
      "outputs": [
        {
          "name": "stdout",
          "output_type": "stream",
          "text": [
            "b\n",
            "a\n",
            "n\n",
            "a\n",
            "n\n",
            "a\n"
          ]
        }
      ],
      "source": [
        "for i in \"banana\":\n",
        "    print(i)"
      ]
    },
    {
      "cell_type": "code",
      "execution_count": null,
      "metadata": {
        "id": "_9LWMNhtKaQX",
        "outputId": "ea302a74-3343-4e0e-82e9-91bd7f141610"
      },
      "outputs": [
        {
          "name": "stdout",
          "output_type": "stream",
          "text": [
            "5\n"
          ]
        }
      ],
      "source": [
        "a=\"apple\"\n",
        "print(len(a))"
      ]
    },
    {
      "cell_type": "code",
      "execution_count": null,
      "metadata": {
        "id": "saF_s1QaKaQX",
        "outputId": "015c9c4f-2630-427a-af46-b59af1729d6f"
      },
      "outputs": [
        {
          "name": "stdout",
          "output_type": "stream",
          "text": [
            "True\n"
          ]
        }
      ],
      "source": [
        "txt= \"the best part or programinng its build yuor confidance \"\n",
        "print(\"confidance\" in txt)"
      ]
    },
    {
      "cell_type": "code",
      "execution_count": null,
      "metadata": {
        "id": "ZEGE1ANqKaQX",
        "outputId": "9c1e7539-ff79-4b8d-8fe9-76cc570002cc"
      },
      "outputs": [
        {
          "name": "stdout",
          "output_type": "stream",
          "text": [
            "yes, 'party' is not present\n"
          ]
        }
      ],
      "source": [
        "txt= \"the best part or programinng its build yuor confidance \"\n",
        "if \"party\" not in txt:\n",
        "    print(\"yes, 'party' is not present\")"
      ]
    },
    {
      "cell_type": "markdown",
      "metadata": {
        "id": "gDW04wK6KaQY"
      },
      "source": [
        "__Slicing__\n"
      ]
    },
    {
      "cell_type": "code",
      "execution_count": null,
      "metadata": {
        "id": "3bu1YIp-KaQY",
        "outputId": "467dd25d-3bb1-48fe-ef72-790d3b7791e3"
      },
      "outputs": [
        {
          "name": "stdout",
          "output_type": "stream",
          "text": [
            "ll\n",
            "hello\n",
            "b\n",
            "lo bhaiya\n",
            "hello b\n"
          ]
        }
      ],
      "source": [
        "b='hello bhaiya'\n",
        "print(b[2:4])\n",
        "print(b[:5])\n",
        "print(b[6])\n",
        "print(b[3:])\n",
        "print(b[:-5])"
      ]
    },
    {
      "cell_type": "markdown",
      "metadata": {
        "id": "IZ1wa9PhKaQY"
      },
      "source": [
        "__Modifiy String__"
      ]
    },
    {
      "cell_type": "code",
      "execution_count": null,
      "metadata": {
        "id": "-WSlBwWhKaQZ",
        "outputId": "59667a1c-6513-468b-c2e4-b828eacf9e57"
      },
      "outputs": [
        {
          "name": "stdout",
          "output_type": "stream",
          "text": [
            "HARSHIT GANGWAR\n",
            "harshit gangwar\n"
          ]
        }
      ],
      "source": [
        "a=\"harshit GaNgwar\"\n",
        "print(a.upper())\n",
        "print(a.lower())"
      ]
    },
    {
      "cell_type": "code",
      "execution_count": null,
      "metadata": {
        "id": "kNT1I9RQKaQZ",
        "outputId": "9e256474-7ac9-4483-e8a7-de11b36fe46f"
      },
      "outputs": [
        {
          "name": "stdout",
          "output_type": "stream",
          "text": [
            "hii bhiya. aap\n",
            "['hii bhiya', ' aap']\n"
          ]
        }
      ],
      "source": [
        "a=\"hii bhiya. aap\"\n",
        "print(a.strip())\n",
        "print(a.split(\".\"))"
      ]
    },
    {
      "cell_type": "markdown",
      "source": [
        "**String concatenation**"
      ],
      "metadata": {
        "id": "GmUX0ceCLhIe"
      }
    },
    {
      "cell_type": "code",
      "source": [
        "a=\"hello world\"\n",
        "print(a.replace(\"hel\",\"b\"))"
      ],
      "metadata": {
        "id": "dhDq7XmvKcms",
        "outputId": "987222a0-9710-485e-91b7-6da02e6ea77a",
        "colab": {
          "base_uri": "https://localhost:8080/"
        }
      },
      "execution_count": null,
      "outputs": [
        {
          "output_type": "stream",
          "name": "stdout",
          "text": [
            "blo world\n"
          ]
        }
      ]
    },
    {
      "cell_type": "code",
      "source": [
        "a=\"hello\"\n",
        "b=\"bhaiya\"\n",
        "print(a+b)"
      ],
      "metadata": {
        "id": "rrvLHtm-LIyk",
        "outputId": "033ffc75-17ca-47d1-e384-69706acdb798",
        "colab": {
          "base_uri": "https://localhost:8080/"
        }
      },
      "execution_count": null,
      "outputs": [
        {
          "output_type": "stream",
          "name": "stdout",
          "text": [
            "hellobhaiya\n"
          ]
        }
      ]
    },
    {
      "cell_type": "code",
      "source": [
        "a=\"hello\"\n",
        "b=\"bhaiya\"\n",
        "print(a+ \" \" +b)"
      ],
      "metadata": {
        "id": "We3-qIzsL3ZK",
        "outputId": "155b211e-79e0-45e4-fd69-0a2fca32abed",
        "colab": {
          "base_uri": "https://localhost:8080/"
        }
      },
      "execution_count": null,
      "outputs": [
        {
          "output_type": "stream",
          "name": "stdout",
          "text": [
            "hello bhaiya\n"
          ]
        }
      ]
    },
    {
      "cell_type": "markdown",
      "source": [
        "**string format**"
      ],
      "metadata": {
        "id": "bZeunyzhMUQG"
      }
    },
    {
      "cell_type": "code",
      "source": [
        "age =23\n",
        "txt = f\"i am harsit, i am {age} \"\n",
        "print(txt)\n"
      ],
      "metadata": {
        "id": "XnNCe3wNNEW2",
        "outputId": "4693e49e-edc9-4691-8230-637b2ef8cfc4",
        "colab": {
          "base_uri": "https://localhost:8080/"
        }
      },
      "execution_count": null,
      "outputs": [
        {
          "output_type": "stream",
          "name": "stdout",
          "text": [
            "i am harsit, i am 23 \n"
          ]
        }
      ]
    },
    {
      "cell_type": "code",
      "source": [
        "age =23\n",
        "txt = f\"i am harsit, i am {age:.2f} old. \"\n",
        "print(txt)"
      ],
      "metadata": {
        "id": "AhA4ZYVmNX8l",
        "outputId": "9669682c-61cf-452b-d0e6-2005dab46615",
        "colab": {
          "base_uri": "https://localhost:8080/"
        }
      },
      "execution_count": null,
      "outputs": [
        {
          "output_type": "stream",
          "name": "stdout",
          "text": [
            "i am harsit, i am 23.00 old. \n"
          ]
        }
      ]
    },
    {
      "cell_type": "code",
      "source": [
        "txt = f\"its {10+2} rupee\"\n",
        "print(txt)"
      ],
      "metadata": {
        "id": "irR_4IgDNe0w",
        "outputId": "54060eb3-247d-475d-e137-6671e8c02377",
        "colab": {
          "base_uri": "https://localhost:8080/"
        }
      },
      "execution_count": null,
      "outputs": [
        {
          "output_type": "stream",
          "name": "stdout",
          "text": [
            "its 12 rupee\n"
          ]
        }
      ]
    },
    {
      "cell_type": "code",
      "source": [
        "a=\"harshit\"\n",
        "print(a.capitalize())"
      ],
      "metadata": {
        "id": "KYTHC9Z4NzgJ",
        "outputId": "f1300ccb-b658-4cd5-dd7d-d15daafff42c",
        "colab": {
          "base_uri": "https://localhost:8080/"
        }
      },
      "execution_count": null,
      "outputs": [
        {
          "output_type": "stream",
          "name": "stdout",
          "text": [
            "Harshit\n"
          ]
        }
      ]
    },
    {
      "cell_type": "code",
      "source": [
        "a=\"Harshit\"\n",
        "print(a.casefold())"
      ],
      "metadata": {
        "id": "ipg2Ka0bOJxl",
        "outputId": "94af2e47-c879-4b5f-f027-9ce26851d694",
        "colab": {
          "base_uri": "https://localhost:8080/"
        }
      },
      "execution_count": null,
      "outputs": [
        {
          "output_type": "stream",
          "name": "stdout",
          "text": [
            "harshit\n"
          ]
        }
      ]
    },
    {
      "cell_type": "code",
      "source": [
        "a=\"harshit who are you\"\n",
        "print(a.center(4))\n",
        "print(a.isdecimal())\n",
        "print(a.isdigit())\n",
        "print(a.islower())\n",
        "print(a.isupper())\n",
        "print(a.isnumeric())"
      ],
      "metadata": {
        "id": "AqG0ZV5pORKN",
        "outputId": "1422d2c4-c336-4b69-cb0f-dc34902a6c4a",
        "colab": {
          "base_uri": "https://localhost:8080/"
        }
      },
      "execution_count": null,
      "outputs": [
        {
          "output_type": "stream",
          "name": "stdout",
          "text": [
            "harshit who are you\n",
            "False\n",
            "False\n",
            "True\n",
            "False\n",
            "False\n"
          ]
        }
      ]
    },
    {
      "cell_type": "markdown",
      "source": [
        "**While loop**"
      ],
      "metadata": {
        "id": "1kPoUSyuhIo7"
      }
    },
    {
      "cell_type": "code",
      "source": [
        "i=0\n",
        "while i!=6:\n",
        "  print(i)\n",
        "  i+=1"
      ],
      "metadata": {
        "id": "KrD6IutMOXq0",
        "outputId": "31187128-dd21-45f2-9837-402b713e8fdf",
        "colab": {
          "base_uri": "https://localhost:8080/"
        }
      },
      "execution_count": 2,
      "outputs": [
        {
          "output_type": "stream",
          "name": "stdout",
          "text": [
            "0\n",
            "1\n",
            "2\n",
            "3\n",
            "4\n",
            "5\n"
          ]
        }
      ]
    },
    {
      "cell_type": "code",
      "source": [
        "i=0\n",
        "while i!=10:\n",
        "  if i%2==0:\n",
        "    print(\"even\",i)\n",
        "  else:\n",
        "    print(\"odd\",i)\n",
        "  i+=1"
      ],
      "metadata": {
        "id": "MszrtUZuhoZW",
        "outputId": "594544c6-6cda-4afd-933c-960e19d6f4eb",
        "colab": {
          "base_uri": "https://localhost:8080/"
        }
      },
      "execution_count": 4,
      "outputs": [
        {
          "output_type": "stream",
          "name": "stdout",
          "text": [
            "even 0\n",
            "odd 1\n",
            "even 2\n",
            "odd 3\n",
            "even 4\n",
            "odd 5\n",
            "even 6\n",
            "odd 7\n",
            "even 8\n",
            "odd 9\n"
          ]
        }
      ]
    },
    {
      "cell_type": "code",
      "source": [
        "i=1\n",
        "while i!=11:\n",
        "  print(i*4)\n",
        "  i+=1"
      ],
      "metadata": {
        "id": "nlWsodUdiN_d",
        "outputId": "157d183e-ff54-4eeb-a313-a435210ff26a",
        "colab": {
          "base_uri": "https://localhost:8080/"
        }
      },
      "execution_count": 3,
      "outputs": [
        {
          "output_type": "stream",
          "name": "stdout",
          "text": [
            "4\n",
            "8\n",
            "12\n",
            "16\n",
            "20\n",
            "24\n",
            "28\n",
            "32\n",
            "36\n",
            "40\n"
          ]
        }
      ]
    },
    {
      "cell_type": "code",
      "source": [
        "i=1\n",
        "while i!=10:\n",
        "  print(\"HELLO \")\n",
        "  i+=1"
      ],
      "metadata": {
        "id": "YPXZfsWqi-ku",
        "outputId": "2b0dc6ca-cac6-4430-8934-4d3e7578f021",
        "colab": {
          "base_uri": "https://localhost:8080/"
        }
      },
      "execution_count": 1,
      "outputs": [
        {
          "output_type": "stream",
          "name": "stdout",
          "text": [
            "HELLO \n",
            "HELLO \n",
            "HELLO \n",
            "HELLO \n",
            "HELLO \n",
            "HELLO \n",
            "HELLO \n",
            "HELLO \n",
            "HELLO \n"
          ]
        }
      ]
    },
    {
      "cell_type": "markdown",
      "source": [
        "**if else statment**"
      ],
      "metadata": {
        "id": "UOP5LsDajyGp"
      }
    },
    {
      "cell_type": "code",
      "source": [
        "mark = int(input(\"enter the mark of the student :\"))\n",
        "if mark>=33:\n",
        "  print(\"pass\")\n",
        "else:\n",
        "  print(\"fail\")\n"
      ],
      "metadata": {
        "id": "ATQdarO9kZXc",
        "outputId": "b67a39b8-859d-4e27-c1b7-fff273455679",
        "colab": {
          "base_uri": "https://localhost:8080/"
        }
      },
      "execution_count": 2,
      "outputs": [
        {
          "output_type": "stream",
          "name": "stdout",
          "text": [
            "enter the mark of the student :23\n",
            "fail\n"
          ]
        }
      ]
    },
    {
      "cell_type": "code",
      "source": [
        "if(3>2):\n",
        "  print(\"true\")\n",
        "else:\n",
        "  print(\"false\")"
      ],
      "metadata": {
        "id": "asVaPleDkomP",
        "outputId": "132cfa29-0ab9-42cb-e0cc-3b0ee863d899",
        "colab": {
          "base_uri": "https://localhost:8080/"
        }
      },
      "execution_count": 3,
      "outputs": [
        {
          "output_type": "stream",
          "name": "stdout",
          "text": [
            "true\n"
          ]
        }
      ]
    },
    {
      "cell_type": "code",
      "source": [
        "if(3>2 and 4>5):\n",
        "  print(\"true\")\n",
        "else:\n",
        "  print(\"false\")"
      ],
      "metadata": {
        "id": "2PRAQwqPk49e",
        "outputId": "e5a8a83b-3423-45cf-cbd2-a113dd99d1a2",
        "colab": {
          "base_uri": "https://localhost:8080/"
        }
      },
      "execution_count": 5,
      "outputs": [
        {
          "output_type": "stream",
          "name": "stdout",
          "text": [
            "false\n"
          ]
        }
      ]
    },
    {
      "cell_type": "code",
      "source": [
        "if(3>2 or 4>5):\n",
        "  print(\"true\")\n",
        "else:\n",
        "  print(\"false\")"
      ],
      "metadata": {
        "id": "6bNn1Y3MlMLp",
        "outputId": "a9141f20-564e-4563-9b57-7d9860a5de1b",
        "colab": {
          "base_uri": "https://localhost:8080/"
        }
      },
      "execution_count": 7,
      "outputs": [
        {
          "output_type": "stream",
          "name": "stdout",
          "text": [
            "true\n"
          ]
        }
      ]
    },
    {
      "cell_type": "markdown",
      "source": [
        "**for loop**"
      ],
      "metadata": {
        "id": "bUCVTHhflnm0"
      }
    },
    {
      "cell_type": "code",
      "source": [
        "for i in range(10):\n",
        "  print(i)"
      ],
      "metadata": {
        "id": "94ZF9kGHlrKp",
        "outputId": "4b1480b9-7f33-45f2-8f2d-2ed87cd8a28c",
        "colab": {
          "base_uri": "https://localhost:8080/"
        }
      },
      "execution_count": 8,
      "outputs": [
        {
          "output_type": "stream",
          "name": "stdout",
          "text": [
            "0\n",
            "1\n",
            "2\n",
            "3\n",
            "4\n",
            "5\n",
            "6\n",
            "7\n",
            "8\n",
            "9\n"
          ]
        }
      ]
    },
    {
      "cell_type": "code",
      "source": [
        "for i in range(4,8):\n",
        "  print(i)"
      ],
      "metadata": {
        "id": "86IqNh3ymAVO",
        "outputId": "06c10559-9b8c-4404-f865-bddfb6b34b0f",
        "colab": {
          "base_uri": "https://localhost:8080/"
        }
      },
      "execution_count": 9,
      "outputs": [
        {
          "output_type": "stream",
          "name": "stdout",
          "text": [
            "4\n",
            "5\n",
            "6\n",
            "7\n"
          ]
        }
      ]
    },
    {
      "cell_type": "code",
      "source": [
        "for i in range(1,10,2):\n",
        "  print(\"odd\",i)"
      ],
      "metadata": {
        "id": "uvrbay8OmLDn",
        "outputId": "fa53ab7e-a4c1-4905-e8e2-a2048462405a",
        "colab": {
          "base_uri": "https://localhost:8080/"
        }
      },
      "execution_count": 14,
      "outputs": [
        {
          "output_type": "stream",
          "name": "stdout",
          "text": [
            "odd 1\n",
            "odd 3\n",
            "odd 5\n",
            "odd 7\n",
            "odd 9\n"
          ]
        }
      ]
    },
    {
      "cell_type": "code",
      "source": [
        "for i in range(0,10,2):\n",
        "  print(\"even\",i)"
      ],
      "metadata": {
        "id": "9yDQlAIVmp8p",
        "outputId": "c3c74610-c316-447f-ee73-5c9fb79d3d1e",
        "colab": {
          "base_uri": "https://localhost:8080/"
        }
      },
      "execution_count": 15,
      "outputs": [
        {
          "output_type": "stream",
          "name": "stdout",
          "text": [
            "even 0\n",
            "even 2\n",
            "even 4\n",
            "even 6\n",
            "even 8\n"
          ]
        }
      ]
    },
    {
      "cell_type": "code",
      "source": [
        "for i in range(10,0,-1):\n",
        "  print(i)"
      ],
      "metadata": {
        "id": "a5NzQJCnm4bX",
        "outputId": "92d0e164-7ed0-4038-e685-464d9010fbe6",
        "colab": {
          "base_uri": "https://localhost:8080/"
        }
      },
      "execution_count": 16,
      "outputs": [
        {
          "output_type": "stream",
          "name": "stdout",
          "text": [
            "10\n",
            "9\n",
            "8\n",
            "7\n",
            "6\n",
            "5\n",
            "4\n",
            "3\n",
            "2\n",
            "1\n"
          ]
        }
      ]
    },
    {
      "cell_type": "code",
      "source": [
        "for i in range(10):\n",
        "  if i%2==0:\n",
        "    print(\"even\",i)\n",
        "  else:\n",
        "    print(\"odd\",i)"
      ],
      "metadata": {
        "id": "WhjJ-TSlnHOI",
        "outputId": "8d1fe933-eb0b-48b7-86ff-39df62da14b3",
        "colab": {
          "base_uri": "https://localhost:8080/"
        }
      },
      "execution_count": 17,
      "outputs": [
        {
          "output_type": "stream",
          "name": "stdout",
          "text": [
            "even 0\n",
            "odd 1\n",
            "even 2\n",
            "odd 3\n",
            "even 4\n",
            "odd 5\n",
            "even 6\n",
            "odd 7\n",
            "even 8\n",
            "odd 9\n"
          ]
        }
      ]
    }
  ],
  "metadata": {
    "kernelspec": {
      "display_name": "Python 3",
      "language": "python",
      "name": "python3"
    },
    "language_info": {
      "codemirror_mode": {
        "name": "ipython",
        "version": 3
      },
      "file_extension": ".py",
      "mimetype": "text/x-python",
      "name": "python",
      "nbconvert_exporter": "python",
      "pygments_lexer": "ipython3",
      "version": "3.10.11"
    },
    "colab": {
      "provenance": []
    }
  },
  "nbformat": 4,
  "nbformat_minor": 0
}